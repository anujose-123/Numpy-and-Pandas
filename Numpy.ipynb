{
 "cells": [
  {
   "cell_type": "markdown",
   "metadata": {},
   "source": [
    "### NumPy Array Shape"
   ]
  },
  {
   "cell_type": "code",
   "execution_count": 1,
   "metadata": {},
   "outputs": [
    {
     "name": "stdout",
     "output_type": "stream",
     "text": [
      "(25,)\n",
      "(25,)\n"
     ]
    }
   ],
   "source": [
    "import numpy as np\n",
    "import pandas as pd\n",
    "\n",
    "df=pd.read_csv(\"C:/Users/ANJU/Desktop/internship/student data.csv\")\n",
    "\n",
    "arr = np.array(df['Hours'])\n",
    "arr1= np.array(df['Scores'])\n",
    "\n",
    "print(arr.shape)\n",
    "print(arr1.shape)"
   ]
  },
  {
   "cell_type": "code",
   "execution_count": 2,
   "metadata": {},
   "outputs": [
    {
     "name": "stdout",
     "output_type": "stream",
     "text": [
      "No of dimensions of the array: 2\n",
      "Total no of elements of the array: 50\n",
      "Shape of the array: (25, 2)\n"
     ]
    }
   ],
   "source": [
    "print('No of dimensions of the array:',df.ndim)     # .ndim for dimensions\n",
    "print('Total no of elements of the array:',df.size) # .size for size\n",
    "print('Shape of the array:',df.shape)"
   ]
  },
  {
   "cell_type": "markdown",
   "metadata": {},
   "source": [
    "### NumPy Array Reshaping"
   ]
  },
  {
   "cell_type": "code",
   "execution_count": 3,
   "metadata": {},
   "outputs": [
    {
     "name": "stdout",
     "output_type": "stream",
     "text": [
      "[[2.5 5.1 3.2 8.5 3.5]\n",
      " [1.5 9.2 5.5 8.3 2.7]\n",
      " [7.7 5.9 4.5 3.3 1.1]\n",
      " [8.9 2.5 1.9 6.1 7.4]\n",
      " [2.7 4.8 3.8 6.9 7.8]]\n",
      "[[21 47 27 75 30]\n",
      " [20 88 60 81 25]\n",
      " [85 62 41 42 17]\n",
      " [95 30 24 67 69]\n",
      " [30 54 35 76 86]]\n"
     ]
    }
   ],
   "source": [
    "arr1 = np.array(df['Hours'])\n",
    "newarr1 = arr1.reshape(5,5)\n",
    "arr2 = np.array(df['Scores'])\n",
    "newarr2 = arr2.reshape(5,5)\n",
    "print(newarr1)\n",
    "print(newarr2)"
   ]
  },
  {
   "cell_type": "markdown",
   "metadata": {},
   "source": [
    "### NumPy Sorting and Searching"
   ]
  },
  {
   "cell_type": "code",
   "execution_count": 4,
   "metadata": {},
   "outputs": [
    {
     "name": "stdout",
     "output_type": "stream",
     "text": [
      "[1.1 1.5 1.9 2.5 2.5 2.7 2.7 3.2 3.3 3.5 3.8 4.5 4.8 5.1 5.5 5.9 6.1 6.9\n",
      " 7.4 7.7 7.8 8.3 8.5 8.9 9.2]\n",
      "[17 20 21 24 25 27 30 30 30 35 41 42 47 54 60 62 67 69 75 76 81 85 86 88\n",
      " 95]\n"
     ]
    }
   ],
   "source": [
    "# NumPy Sorting\n",
    "arr1 = np.array(df['Hours'])\n",
    "arr2 = np.array(df['Scores'])\n",
    "print(np.sort(arr1))\n",
    "print(np.sort(arr2))"
   ]
  },
  {
   "cell_type": "code",
   "execution_count": 5,
   "metadata": {},
   "outputs": [
    {
     "name": "stdout",
     "output_type": "stream",
     "text": [
      "(array([ 4, 16, 20], dtype=int64),)\n",
      "(array([ 4,  5,  6,  7, 11, 13, 16, 17, 20, 21, 23, 24], dtype=int64),)\n",
      "(array([ 0,  1,  2,  3,  8,  9, 10, 12, 14, 15, 18, 19, 22], dtype=int64),)\n"
     ]
    }
   ],
   "source": [
    "# numpy searching\n",
    "arr1 = np.array(df['Scores'])\n",
    "x = np.where(arr1 == 30)\n",
    "y = np.where(arr1%2 == 0)\n",
    "z = np.where(arr1%2 == 1)\n",
    "print(x)\n",
    "print(y)\n",
    "print(z)"
   ]
  },
  {
   "cell_type": "code",
   "execution_count": 6,
   "metadata": {},
   "outputs": [
    {
     "name": "stdout",
     "output_type": "stream",
     "text": [
      "18\n"
     ]
    }
   ],
   "source": [
    "arr1 = np.array(df['Scores'])\n",
    "x = np.searchsorted(arr1, 47)\n",
    "print(x)\n"
   ]
  },
  {
   "cell_type": "markdown",
   "metadata": {},
   "source": [
    "### Mean, Median, Mode"
   ]
  },
  {
   "cell_type": "code",
   "execution_count": 7,
   "metadata": {},
   "outputs": [
    {
     "name": "stdout",
     "output_type": "stream",
     "text": [
      "51.48\n"
     ]
    }
   ],
   "source": [
    "# Mean\n",
    "arr=np.array(df['Scores'])\n",
    "x=np.mean(arr)\n",
    "print(x)"
   ]
  },
  {
   "cell_type": "code",
   "execution_count": 8,
   "metadata": {},
   "outputs": [
    {
     "name": "stdout",
     "output_type": "stream",
     "text": [
      "47.0\n"
     ]
    }
   ],
   "source": [
    "#median\n",
    "import numpy as np\n",
    "arr=np.array(df['Scores'])\n",
    "x = np.median(arr)\n",
    "print(x)"
   ]
  },
  {
   "cell_type": "code",
   "execution_count": 9,
   "metadata": {},
   "outputs": [
    {
     "name": "stdout",
     "output_type": "stream",
     "text": [
      "ModeResult(mode=array([30], dtype=int64), count=array([3]))\n"
     ]
    }
   ],
   "source": [
    "# mode\n",
    "from scipy import stats\n",
    "arr=np.array(df['Scores']) \n",
    "x = stats.mode(arr)\n",
    "print(x)"
   ]
  },
  {
   "cell_type": "code",
   "execution_count": 10,
   "metadata": {},
   "outputs": [
    {
     "name": "stdout",
     "output_type": "stream",
     "text": [
      "24.775988375844868\n"
     ]
    }
   ],
   "source": [
    "# Standard deviation\n",
    "arr=np.array(df['Scores']) \n",
    "x = np.std(arr)\n",
    "print(x)"
   ]
  },
  {
   "cell_type": "code",
   "execution_count": null,
   "metadata": {},
   "outputs": [],
   "source": []
  }
 ],
 "metadata": {
  "kernelspec": {
   "display_name": "Python 3",
   "language": "python",
   "name": "python3"
  },
  "language_info": {
   "codemirror_mode": {
    "name": "ipython",
    "version": 3
   },
   "file_extension": ".py",
   "mimetype": "text/x-python",
   "name": "python",
   "nbconvert_exporter": "python",
   "pygments_lexer": "ipython3",
   "version": "3.7.3"
  }
 },
 "nbformat": 4,
 "nbformat_minor": 2
}
